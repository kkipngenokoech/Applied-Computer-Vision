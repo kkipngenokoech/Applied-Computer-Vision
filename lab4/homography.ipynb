{
 "cells": [
  {
   "cell_type": "code",
   "execution_count": 5,
   "metadata": {},
   "outputs": [
    {
     "name": "stdout",
     "output_type": "stream",
     "text": [
      "Saved image1.jpg\n",
      "Saved image2.jpg\n"
     ]
    }
   ],
   "source": [
    "import cv2\n",
    "\n",
    "# Open webcam\n",
    "cap = cv2.VideoCapture(0)\n",
    "\n",
    "if not cap.isOpened():\n",
    "    print(\"Error: Could not open webcam.\")\n",
    "    exit()\n",
    "\n",
    "for i in range(2):  # Capture two images\n",
    "    while True:\n",
    "        ret, frame = cap.read()\n",
    "        if not ret:\n",
    "            print(\"Failed to capture frame\")\n",
    "            break\n",
    "        \n",
    "        # Show live feed\n",
    "        cv2.imshow(\"Press 's' to capture\", frame)\n",
    "        \n",
    "        # Wait for key press\n",
    "        key = cv2.waitKey(1) & 0xFF\n",
    "        if key == ord('s'):  # Press 's' to save the image\n",
    "            filename = f\"image{i+1}.jpg\"\n",
    "            cv2.imwrite(filename, frame)\n",
    "            print(f\"Saved {filename}\")\n",
    "            break\n",
    "        elif key == ord('q'):  # Press 'q' to quit\n",
    "            cap.release()\n",
    "            cv2.destroyAllWindows()\n",
    "            exit()\n",
    "\n",
    "cap.release()\n",
    "cv2.destroyAllWindows()\n"
   ]
  },
  {
   "cell_type": "code",
   "execution_count": 6,
   "metadata": {},
   "outputs": [
    {
     "name": "stdout",
     "output_type": "stream",
     "text": [
      "Homography Matrix:\n",
      " [[ 8.49335303e-01  5.05908419e-02  2.17577548e+01]\n",
      " [-9.44854751e-02  9.79615953e-01  2.76760217e+01]\n",
      " [-2.95420975e-04  1.47710487e-05  1.00000000e+00]]\n"
     ]
    }
   ],
   "source": [
    "import numpy as np\n",
    "\n",
    "# Manually define corresponding points in both images\n",
    "pts_src = np.array([[100, 200], [400, 200], [100, 400], [400, 400]])  # Image 1 points\n",
    "pts_dst = np.array([[120, 220], [420, 210], [130, 420], [430, 430]])  # Image 2 points\n",
    "\n",
    "# Compute Homography\n",
    "H, status = cv2.findHomography(pts_src, pts_dst)\n",
    "\n",
    "print(\"Homography Matrix:\\n\", H)\n"
   ]
  },
  {
   "cell_type": "code",
   "execution_count": 8,
   "metadata": {},
   "outputs": [],
   "source": [
    "# Load the first image\n",
    "img1 = cv2.imread(\"image1.jpg\")\n",
    "\n",
    "# Get image dimensions\n",
    "height, width, _ = img1.shape\n",
    "\n",
    "# Warp perspective using homography matrix\n",
    "warped_img = cv2.warpPerspective(img1, H, (width, height))\n",
    "\n",
    "# Display original and warped images\n",
    "cv2.imshow(\"Original Image\", img1)\n",
    "cv2.imshow(\"Warped Image\", warped_img)\n",
    "cv2.waitKey(0)\n",
    "cv2.destroyAllWindows()\n"
   ]
  },
  {
   "cell_type": "code",
   "execution_count": 12,
   "metadata": {},
   "outputs": [
    {
     "name": "stdout",
     "output_type": "stream",
     "text": [
      "Homography Matrix:\n",
      " [[ 9.10960108e-01 -2.07453288e-01  7.04400514e+01]\n",
      " [ 1.69916710e-02  8.80932339e-01  8.34571354e+00]\n",
      " [ 6.32642102e-05 -2.95317030e-04  1.00000000e+00]]\n"
     ]
    }
   ],
   "source": [
    "import cv2\n",
    "import numpy as np\n",
    "\n",
    "# Load images\n",
    "img1 = cv2.imread(\"image1.jpg\", cv2.IMREAD_GRAYSCALE)\n",
    "img2 = cv2.imread(\"image2.jpg\", cv2.IMREAD_GRAYSCALE)\n",
    "\n",
    "# Initialize ORB detector\n",
    "orb = cv2.ORB_create()\n",
    "\n",
    "# Detect keypoints and descriptors\n",
    "kp1, des1 = orb.detectAndCompute(img1, None)\n",
    "kp2, des2 = orb.detectAndCompute(img2, None)\n",
    "\n",
    "# Use BFMatcher with Hamming distance\n",
    "bf = cv2.BFMatcher(cv2.NORM_HAMMING, crossCheck=True)\n",
    "matches = bf.match(des1, des2)\n",
    "\n",
    "# Sort matches by distance (lower is better)\n",
    "matches = sorted(matches, key=lambda x: x.distance)\n",
    "\n",
    "# Draw top matches\n",
    "img_matches = cv2.drawMatches(img1, kp1, img2, kp2, matches[:50], None, flags=2)\n",
    "cv2.imshow(\"Feature Matches\", img_matches)\n",
    "\n",
    "cv2.waitKey(0)\n",
    "\n",
    "# Extract point coordinates\n",
    "src_pts = np.float32([kp1[m.queryIdx].pt for m in matches]).reshape(-1, 1, 2)\n",
    "dst_pts = np.float32([kp2[m.trainIdx].pt for m in matches]).reshape(-1, 1, 2)\n",
    "\n",
    "# Compute Homography\n",
    "H, mask = cv2.findHomography(src_pts, dst_pts, cv2.RANSAC, 5.0)\n",
    "\n",
    "print(\"Homography Matrix:\\n\", H)\n",
    "\n",
    "# Warp image\n",
    "height, width = img2.shape\n",
    "warped_img = cv2.warpPerspective(img1, H, (width, height))\n",
    "\n",
    "\n",
    "# Show result\n",
    "# Save the warped image to a file\n",
    "cv2.imwrite(\"warped_image.jpg\", img_matches)\n",
    "cv2.imshow(\"Warped Image\", warped_img)\n",
    "cv2.waitKey(0)\n",
    "cv2.destroyAllWindows()\n"
   ]
  },
  {
   "cell_type": "code",
   "execution_count": null,
   "metadata": {},
   "outputs": [],
   "source": []
  }
 ],
 "metadata": {
  "kernelspec": {
   "display_name": ".venv",
   "language": "python",
   "name": "python3"
  },
  "language_info": {
   "codemirror_mode": {
    "name": "ipython",
    "version": 3
   },
   "file_extension": ".py",
   "mimetype": "text/x-python",
   "name": "python",
   "nbconvert_exporter": "python",
   "pygments_lexer": "ipython3",
   "version": "3.12.4"
  }
 },
 "nbformat": 4,
 "nbformat_minor": 2
}
