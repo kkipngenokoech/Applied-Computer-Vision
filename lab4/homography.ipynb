{
 "cells": [
  {
   "cell_type": "code",
   "execution_count": 1,
   "metadata": {},
   "outputs": [
    {
     "ename": "error",
     "evalue": "OpenCV(4.11.0) D:\\a\\opencv-python\\opencv-python\\opencv\\modules\\highgui\\src\\window.cpp:1301: error: (-2:Unspecified error) The function is not implemented. Rebuild the library with Windows, GTK+ 2.x or Cocoa support. If you are on Ubuntu or Debian, install libgtk2.0-dev and pkg-config, then re-run cmake or configure script in function 'cvShowImage'\n",
     "output_type": "error",
     "traceback": [
      "\u001b[1;31m---------------------------------------------------------------------------\u001b[0m",
      "\u001b[1;31merror\u001b[0m                                     Traceback (most recent call last)",
      "Cell \u001b[1;32mIn[1], line 18\u001b[0m\n\u001b[0;32m     15\u001b[0m     \u001b[38;5;28;01mbreak\u001b[39;00m\n\u001b[0;32m     17\u001b[0m \u001b[38;5;66;03m# Show live feed\u001b[39;00m\n\u001b[1;32m---> 18\u001b[0m \u001b[43mcv2\u001b[49m\u001b[38;5;241;43m.\u001b[39;49m\u001b[43mimshow\u001b[49m\u001b[43m(\u001b[49m\u001b[38;5;124;43m\"\u001b[39;49m\u001b[38;5;124;43mPress \u001b[39;49m\u001b[38;5;124;43m'\u001b[39;49m\u001b[38;5;124;43ms\u001b[39;49m\u001b[38;5;124;43m'\u001b[39;49m\u001b[38;5;124;43m to capture\u001b[39;49m\u001b[38;5;124;43m\"\u001b[39;49m\u001b[43m,\u001b[49m\u001b[43m \u001b[49m\u001b[43mframe\u001b[49m\u001b[43m)\u001b[49m\n\u001b[0;32m     20\u001b[0m \u001b[38;5;66;03m# Wait for key press\u001b[39;00m\n\u001b[0;32m     21\u001b[0m key \u001b[38;5;241m=\u001b[39m cv2\u001b[38;5;241m.\u001b[39mwaitKey(\u001b[38;5;241m1\u001b[39m) \u001b[38;5;241m&\u001b[39m \u001b[38;5;241m0xFF\u001b[39m\n",
      "\u001b[1;31merror\u001b[0m: OpenCV(4.11.0) D:\\a\\opencv-python\\opencv-python\\opencv\\modules\\highgui\\src\\window.cpp:1301: error: (-2:Unspecified error) The function is not implemented. Rebuild the library with Windows, GTK+ 2.x or Cocoa support. If you are on Ubuntu or Debian, install libgtk2.0-dev and pkg-config, then re-run cmake or configure script in function 'cvShowImage'\n"
     ]
    }
   ],
   "source": [
    "import cv2\n",
    "\n",
    "# Open webcam\n",
    "cap = cv2.VideoCapture(0)\n",
    "\n",
    "if not cap.isOpened():\n",
    "    print(\"Error: Could not open webcam.\")\n",
    "    exit()\n",
    "\n",
    "for i in range(2):  # Capture two images\n",
    "    while True:\n",
    "        ret, frame = cap.read()\n",
    "        if not ret:\n",
    "            print(\"Failed to capture frame\")\n",
    "            break\n",
    "        \n",
    "        # Show live feed\n",
    "        cv2.imshow(\"Press 's' to capture\", frame)\n",
    "        \n",
    "        # Wait for key press\n",
    "        key = cv2.waitKey(1) & 0xFF\n",
    "        if key == ord('s'):  # Press 's' to save the image\n",
    "            filename = f\"image{i+1}.jpg\"\n",
    "            cv2.imwrite(filename, frame)\n",
    "            print(f\"Saved {filename}\")\n",
    "            break\n",
    "        elif key == ord('q'):  # Press 'q' to quit\n",
    "            cap.release()\n",
    "            cv2.destroyAllWindows()\n",
    "            exit()\n",
    "\n",
    "cap.release()\n",
    "cv2.destroyAllWindows()\n"
   ]
  },
  {
   "cell_type": "code",
   "execution_count": null,
   "metadata": {},
   "outputs": [],
   "source": [
    "# !pip uninstall opencv-python\n",
    "# !pip install opencv-python\n"
   ]
  },
  {
   "cell_type": "code",
   "execution_count": 3,
   "metadata": {},
   "outputs": [
    {
     "name": "stdout",
     "output_type": "stream",
     "text": [
      "Homography Matrix:\n",
      " [[ 8.49335303e-01  5.05908419e-02  2.17577548e+01]\n",
      " [-9.44854751e-02  9.79615953e-01  2.76760217e+01]\n",
      " [-2.95420975e-04  1.47710487e-05  1.00000000e+00]]\n"
     ]
    }
   ],
   "source": [
    "import numpy as np\n",
    "\n",
    "# Manually define corresponding points in both images\n",
    "pts_src = np.array([[100, 200], [400, 200], [100, 400], [400, 400]])  # Image 1 points\n",
    "pts_dst = np.array([[120, 220], [420, 210], [130, 420], [430, 430]])  # Image 2 points\n",
    "\n",
    "# Compute Homography\n",
    "H, status = cv2.findHomography(pts_src, pts_dst)\n",
    "\n",
    "print(\"Homography Matrix:\\n\", H)\n"
   ]
  },
  {
   "cell_type": "code",
   "execution_count": 1,
   "metadata": {},
   "outputs": [
    {
     "name": "stderr",
     "output_type": "stream",
     "text": [
      "qt.qpa.plugin: Could not find the Qt platform plugin \"wayland\" in \"/home/gabby/.local/lib/python3.10/site-packages/cv2/qt/plugins\"\n"
     ]
    },
    {
     "name": "stdout",
     "output_type": "stream",
     "text": [
      "Homography Matrix:\n",
      " [[ 2.14978557e+00 -1.24258615e-01 -2.93516482e+02]\n",
      " [ 3.84753182e-01  1.47942642e+00 -1.91532314e+02]\n",
      " [ 1.11401044e-03 -2.25946588e-04  1.00000000e+00]]\n"
     ]
    }
   ],
   "source": [
    "# Load the first image\n",
    "img1 = cv2.imread(\"image1.jpg\")\n",
    "\n",
    "# Get image dimensions\n",
    "height, width, _ = img1.shape\n",
    "\n",
    "# Warp perspective using homography matrix\n",
    "warped_img = cv2.warpPerspective(img1, H, (width, height))\n",
    "\n",
    "# Display original and warped images\n",
    "cv2.imshow(\"Original Image\", img1)\n",
    "cv2.imshow(\"Warped Image\", warped_img)\n",
    "cv2.waitKey(0)\n",
    "cv2.destroyAllWindows()\n"
   ]
  },
  {
   "cell_type": "code",
   "execution_count": null,
   "metadata": {},
   "outputs": [],
   "source": [
    "import cv2\n",
    "import numpy as np\n",
    "\n",
    "# Load images\n",
    "img1 = cv2.imread(\"image1.jpg\", cv2.IMREAD_GRAYSCALE)\n",
    "img2 = cv2.imread(\"image2.jpg\", cv2.IMREAD_GRAYSCALE)\n",
    "\n",
    "# Initialize ORB detector\n",
    "orb = cv2.ORB_create()\n",
    "\n",
    "# Detect keypoints and descriptors\n",
    "kp1, des1 = orb.detectAndCompute(img1, None)\n",
    "kp2, des2 = orb.detectAndCompute(img2, None)\n",
    "\n",
    "# Use BFMatcher with Hamming distance\n",
    "bf = cv2.BFMatcher(cv2.NORM_HAMMING, crossCheck=True)\n",
    "matches = bf.match(des1, des2)\n",
    "\n",
    "# Sort matches by distance (lower is better)\n",
    "matches = sorted(matches, key=lambda x: x.distance)\n",
    "\n",
    "# Draw top matches\n",
    "img_matches = cv2.drawMatches(img1, kp1, img2, kp2, matches[:50], None, flags=2)\n",
    "cv2.imshow(\"Feature Matches\", img_matches)\n",
    "cv2.waitKey(0)\n",
    "\n",
    "# Extract point coordinates\n",
    "src_pts = np.float32([kp1[m.queryIdx].pt for m in matches]).reshape(-1, 1, 2)\n",
    "dst_pts = np.float32([kp2[m.trainIdx].pt for m in matches]).reshape(-1, 1, 2)\n",
    "\n",
    "# Compute Homography\n",
    "H, mask = cv2.findHomography(src_pts, dst_pts, cv2.RANSAC, 5.0)\n",
    "\n",
    "print(\"Homography Matrix:\\n\", H)\n",
    "\n",
    "# Warp image\n",
    "height, width = img2.shape\n",
    "warped_img = cv2.warpPerspective(img1, H, (width, height))\n",
    "\n",
    "# Show result\n",
    "cv2.imshow(\"Warped Image\", warped_img)\n",
    "cv2.waitKey(0)\n",
    "cv2.destroyAllWindows()\n"
   ]
  }
 ],
 "metadata": {
  "kernelspec": {
   "display_name": ".venv",
   "language": "python",
   "name": "python3"
  },
  "language_info": {
   "codemirror_mode": {
    "name": "ipython",
    "version": 3
   },
   "file_extension": ".py",
   "mimetype": "text/x-python",
   "name": "python",
   "nbconvert_exporter": "python",
   "pygments_lexer": "ipython3",
   "version": "3.12.4"
  }
 },
 "nbformat": 4,
 "nbformat_minor": 2
}
